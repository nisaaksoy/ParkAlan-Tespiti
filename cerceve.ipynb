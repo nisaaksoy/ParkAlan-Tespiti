{
 "cells": [
  {
   "cell_type": "code",
   "execution_count": 12,
   "id": "47bb5afe-6860-4ea9-b2a0-ed9d2dc0518b",
   "metadata": {},
   "outputs": [],
   "source": [
    "import cv2\n",
    "import pickle\n",
    "\n",
    "# Noktaları dosyadan yükle\n",
    "try:\n",
    "    with open(\"n\", \"rb\") as f:\n",
    "        liste = pickle.load(f)\n",
    "except FileNotFoundError:\n",
    "    liste = []\n",
    "\n",
    "# Resmi yükle ve boyutları al\n",
    "img = cv2.imread(\"agla.png\")\n",
    "if img is None:\n",
    "    print(\"Resim yüklenemedi!\")\n",
    "    exit()\n",
    "img_height, img_width = img.shape[:2]  # Resim boyutlarını al\n",
    "\n",
    "# Mouse olaylarını işleyen fonksiyon\n",
    "def mouse(events, x, y, flags, params):\n",
    "    if events == cv2.EVENT_LBUTTONDOWN:  # Sol tık ile nokta ekleme\n",
    "        liste.append((x, y))\n",
    "    elif events == cv2.EVENT_RBUTTONDOWN:  # Sağ tık ile nokta silme\n",
    "        for i, pos in enumerate(liste):\n",
    "            x1, y1 = pos\n",
    "            if x1 < x < x1 + 60 and y1 < y < y1 + 15:  # Güncellenen boyutlar (60, 15)\n",
    "                liste.pop(i)\n",
    "                break  # Nokta silindikten sonra döngüyü durdur\n",
    "    # Noktalar listesini dosyaya yaz\n",
    "    with open(\"n\", \"wb\") as f:\n",
    "        pickle.dump(liste, f)\n",
    "\n",
    "# Görüntüyü işleme ve gösterme\n",
    "while True:\n",
    "    img_copy = img.copy()  # Orijinal resmi bozmamak için kopyasını kullan\n",
    "    for l in liste:\n",
    "        cv2.rectangle(img_copy, (l[0], l[1]), (l[0] + 60, l[1] + 15), (255, 0, 0), 2)  # Boyut güncellendi\n",
    "\n",
    "    # Görüntüyü göster\n",
    "    cv2.imshow(\"Oto Resim\", img_copy)\n",
    "    cv2.setMouseCallback(\"Oto Resim\", mouse)\n",
    "\n",
    "    # 'q' tuşuna basılırsa döngüyü sonlandır\n",
    "    if cv2.waitKey(1) & 0xFF == ord(\"q\"):\n",
    "        break\n",
    "\n",
    "# Pencereleri kapat\n",
    "cv2.destroyAllWindows()\n"
   ]
  },
  {
   "cell_type": "code",
   "execution_count": null,
   "id": "fac80f56-bf61-498f-8a17-3d5efdd68e4b",
   "metadata": {},
   "outputs": [],
   "source": []
  }
 ],
 "metadata": {
  "kernelspec": {
   "display_name": "Python 3 (ipykernel)",
   "language": "python",
   "name": "python3"
  },
  "language_info": {
   "codemirror_mode": {
    "name": "ipython",
    "version": 3
   },
   "file_extension": ".py",
   "mimetype": "text/x-python",
   "name": "python",
   "nbconvert_exporter": "python",
   "pygments_lexer": "ipython3",
   "version": "3.12.2"
  }
 },
 "nbformat": 4,
 "nbformat_minor": 5
}
